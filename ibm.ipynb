{
 "cells": [
  {
   "cell_type": "markdown",
   "id": "dcca4f99",
   "metadata": {},
   "source": [
    "# My Jupyter Notebook on IBM Watson Studio"
   ]
  },
  {
   "cell_type": "markdown",
   "id": "5a49af25",
   "metadata": {},
   "source": [
    "<b>TEMIEDE EMMANUEL</b>\n",
    "SOFTWARE ENGINEER"
   ]
  },
  {
   "cell_type": "markdown",
   "id": "6dee6fe5",
   "metadata": {},
   "source": [
    "<i>i am interested in using machine learning models to predict future buisness trends for companies in Africa</i>"
   ]
  },
  {
   "cell_type": "markdown",
   "id": "b6150f9e",
   "metadata": {},
   "source": [
    "### Print my name"
   ]
  },
  {
   "cell_type": "code",
   "execution_count": 4,
   "id": "dd5114e2",
   "metadata": {},
   "outputs": [
    {
     "name": "stdout",
     "output_type": "stream",
     "text": [
      "Temiede Emmanuel\n"
     ]
    }
   ],
   "source": [
    "print(\"Temiede Emmanuel\")"
   ]
  },
  {
   "cell_type": "markdown",
   "id": "da8819f6",
   "metadata": {},
   "source": [
    "<hr> Jesus </hr>\n",
    "<ol>\n",
    "<li>Fish</li>\n",
    "<li>Eggs</li>\n",
    "<li>Cheese</li>\n",
    "</ol>\n",
    "<a> href=\"https://www.google.com\" >Link to Google</a>"
   ]
  },
  {
   "cell_type": "code",
   "execution_count": null,
   "id": "41481433",
   "metadata": {},
   "outputs": [],
   "source": []
  },
  {
   "cell_type": "code",
   "execution_count": null,
   "id": "8086eb79",
   "metadata": {},
   "outputs": [],
   "source": []
  }
 ],
 "metadata": {
  "kernelspec": {
   "display_name": "Python 3",
   "language": "python",
   "name": "python3"
  },
  "language_info": {
   "codemirror_mode": {
    "name": "ipython",
    "version": 3
   },
   "file_extension": ".py",
   "mimetype": "text/x-python",
   "name": "python",
   "nbconvert_exporter": "python",
   "pygments_lexer": "ipython3",
   "version": "3.8.8"
  }
 },
 "nbformat": 4,
 "nbformat_minor": 5
}
